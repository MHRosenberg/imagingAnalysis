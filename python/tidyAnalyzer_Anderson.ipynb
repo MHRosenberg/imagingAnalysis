{
 "cells": [
  {
   "cell_type": "code",
   "execution_count": 25,
   "metadata": {
    "collapsed": true
   },
   "outputs": [],
   "source": [
    "import pandas as pd\n",
    "import numpy as np\n",
    "\n",
    "# tidy csv file and dir (use makeTidy_Anderson.m to convert Ann's structure to csv)\n",
    "tidyDataDir = '/home/orthogonull/a_MHR/a_research/a_gitResearch/git_ignored/imagingAnalysis/data/2_tidyFormat/'\n",
    "tidyDataFile = 'mouse1.csv'\n",
    "\n",
    "df = pd.read_csv(tidyDataDir + tidyDataFile, header = None, names = \\\n",
    "            [\"date\", \"animalNum\", \"sessionNum\", \"trialNum\", \"stimulusType\", \"neuronID\", \"timePt\", \"CaSignal\"])\n"
   ]
  },
  {
   "cell_type": "code",
   "execution_count": 26,
   "metadata": {
    "scrolled": true
   },
   "outputs": [],
   "source": [
    "ratData = df.loc[df['stimulusType'] == 'rat',:]\n",
    "ussData = df.loc[df['stimulusType'] == 'USS',:]"
   ]
  },
  {
   "cell_type": "code",
   "execution_count": 27,
   "metadata": {
    "scrolled": true
   },
   "outputs": [
    {
     "name": "stdout",
     "output_type": "stream",
     "text": [
      "               date  animalNum  sessionNum  trialNum stimulusType  neuronID  \\\n",
      "90432    2017_05_00          1           1         5          USS         1   \n",
      "90433    2017_05_00          1           1         5          USS         1   \n",
      "90434    2017_05_00          1           1         5          USS         1   \n",
      "90435    2017_05_00          1           1         5          USS         1   \n",
      "90436    2017_05_00          1           1         5          USS         1   \n",
      "90437    2017_05_00          1           1         5          USS         1   \n",
      "90438    2017_05_00          1           1         5          USS         1   \n",
      "90439    2017_05_00          1           1         5          USS         1   \n",
      "90440    2017_05_00          1           1         5          USS         1   \n",
      "90441    2017_05_00          1           1         5          USS         1   \n",
      "90442    2017_05_00          1           1         5          USS         1   \n",
      "90443    2017_05_00          1           1         5          USS         1   \n",
      "90444    2017_05_00          1           1         5          USS         1   \n",
      "90445    2017_05_00          1           1         5          USS         1   \n",
      "90446    2017_05_00          1           1         5          USS         1   \n",
      "90447    2017_05_00          1           1         5          USS         1   \n",
      "90448    2017_05_00          1           1         5          USS         1   \n",
      "90449    2017_05_00          1           1         5          USS         1   \n",
      "90450    2017_05_00          1           1         5          USS         1   \n",
      "90451    2017_05_00          1           1         5          USS         1   \n",
      "90452    2017_05_00          1           1         5          USS         1   \n",
      "90453    2017_05_00          1           1         5          USS         1   \n",
      "90454    2017_05_00          1           1         5          USS         1   \n",
      "90455    2017_05_00          1           1         5          USS         1   \n",
      "90456    2017_05_00          1           1         5          USS         1   \n",
      "90457    2017_05_00          1           1         5          USS         1   \n",
      "90458    2017_05_00          1           1         5          USS         1   \n",
      "90459    2017_05_00          1           1         5          USS         1   \n",
      "90460    2017_05_00          1           1         5          USS         1   \n",
      "90461    2017_05_00          1           1         5          USS         1   \n",
      "...             ...        ...         ...       ...          ...       ...   \n",
      "1462007  2017_05_00          1           3        16          USS        21   \n",
      "1462008  2017_05_00          1           3        16          USS        21   \n",
      "1462009  2017_05_00          1           3        16          USS        21   \n",
      "1462010  2017_05_00          1           3        16          USS        21   \n",
      "1462011  2017_05_00          1           3        16          USS        21   \n",
      "1462012  2017_05_00          1           3        16          USS        21   \n",
      "1462013  2017_05_00          1           3        16          USS        21   \n",
      "1462014  2017_05_00          1           3        16          USS        21   \n",
      "1462015  2017_05_00          1           3        16          USS        21   \n",
      "1462016  2017_05_00          1           3        16          USS        21   \n",
      "1462017  2017_05_00          1           3        16          USS        21   \n",
      "1462018  2017_05_00          1           3        16          USS        21   \n",
      "1462019  2017_05_00          1           3        16          USS        21   \n",
      "1462020  2017_05_00          1           3        16          USS        21   \n",
      "1462021  2017_05_00          1           3        16          USS        21   \n",
      "1462022  2017_05_00          1           3        16          USS        21   \n",
      "1462023  2017_05_00          1           3        16          USS        21   \n",
      "1462024  2017_05_00          1           3        16          USS        21   \n",
      "1462025  2017_05_00          1           3        16          USS        21   \n",
      "1462026  2017_05_00          1           3        16          USS        21   \n",
      "1462027  2017_05_00          1           3        16          USS        21   \n",
      "1462028  2017_05_00          1           3        16          USS        21   \n",
      "1462029  2017_05_00          1           3        16          USS        21   \n",
      "1462030  2017_05_00          1           3        16          USS        21   \n",
      "1462031  2017_05_00          1           3        16          USS        21   \n",
      "1462032  2017_05_00          1           3        16          USS        21   \n",
      "1462033  2017_05_00          1           3        16          USS        21   \n",
      "1462034  2017_05_00          1           3        16          USS        21   \n",
      "1462035  2017_05_00          1           3        16          USS        21   \n",
      "1462036  2017_05_00          1           3        16          USS        21   \n",
      "\n",
      "         timePt  CaSignal  \n",
      "90432         1  30.04230  \n",
      "90433         2  29.78590  \n",
      "90434         3  31.68300  \n",
      "90435         4  32.08270  \n",
      "90436         5  29.63980  \n",
      "90437         6  27.80040  \n",
      "90438         7  30.81490  \n",
      "90439         8  28.30740  \n",
      "90440         9  28.60450  \n",
      "90441        10  27.80040  \n",
      "90442        11  28.96930  \n",
      "90443        12  31.62290  \n",
      "90444        13  31.32160  \n",
      "90445        14  29.55340  \n",
      "90446        15  26.82370  \n",
      "90447        16  27.64310  \n",
      "90448        17  27.11720  \n",
      "90449        18  28.01820  \n",
      "90450        19  28.90250  \n",
      "90451        20  28.05220  \n",
      "90452        21  26.22740  \n",
      "90453        22  28.62690  \n",
      "90454        23  27.91180  \n",
      "90455        24  27.80680  \n",
      "90456        25  27.97480  \n",
      "90457        26  24.69330  \n",
      "90458        27  28.36470  \n",
      "90459        28  27.29370  \n",
      "90460        29  29.29790  \n",
      "90461        30  27.46170  \n",
      "...         ...       ...  \n",
      "1462007    1203   5.20360  \n",
      "1462008    1204   0.93130  \n",
      "1462009    1205   2.53820  \n",
      "1462010    1206   2.44020  \n",
      "1462011    1207   2.71400  \n",
      "1462012    1208   2.70100  \n",
      "1462013    1209   3.74860  \n",
      "1462014    1210   1.61480  \n",
      "1462015    1211   2.91060  \n",
      "1462016    1212   1.33420  \n",
      "1462017    1213   0.94814  \n",
      "1462018    1214   0.23482  \n",
      "1462019    1215   3.26320  \n",
      "1462020    1216   2.35090  \n",
      "1462021    1217   1.78590  \n",
      "1462022    1218  -1.24970  \n",
      "1462023    1219  -0.59041  \n",
      "1462024    1220   2.50430  \n",
      "1462025    1221   1.61240  \n",
      "1462026    1222   3.77660  \n",
      "1462027    1223   1.10220  \n",
      "1462028    1224   1.95190  \n",
      "1462029    1225  -1.37710  \n",
      "1462030    1226  -1.29980  \n",
      "1462031    1227   0.45205  \n",
      "1462032    1228  -0.35790  \n",
      "1462033    1229   1.08910  \n",
      "1462034    1230  -0.68001  \n",
      "1462035    1231   0.55385  \n",
      "1462036    1232   0.60314  \n",
      "\n",
      "[243081 rows x 8 columns]\n"
     ]
    }
   ],
   "source": [
    "print(ussData)\n",
    "\n",
    "\n",
    "df = pd.concat((df_low, df_high), axis=1)\n",
    "\n",
    "# Specify indices we want (note parentheses holding each Boolean)\n",
    "inds = (df['food density'] == 'high') & (df['cross-sectional area (sq micron)'] > 2000)\n",
    "\n",
    "# Pull out areas\n",
    "df.loc[inds, 'cross-sectional area (sq micron)']\n",
    "\n",
    "# Write out DataFrame\n",
    "df.to_csv('xa_combined.csv', index=False)"
   ]
  },
  {
   "cell_type": "code",
   "execution_count": 16,
   "metadata": {
    "scrolled": true
   },
   "outputs": [
    {
     "ename": "KeyError",
     "evalue": "<pandas.core.indexing._LocIndexer object at 0x7fedd38aadd8>",
     "output_type": "error",
     "traceback": [
      "\u001b[0;31m---------------------------------------------------------------------------\u001b[0m",
      "\u001b[0;31mKeyError\u001b[0m                                  Traceback (most recent call last)",
      "\u001b[0;32m/home/orthogonull/anaconda3/envs/py36/lib/python3.6/site-packages/pandas/core/indexes/base.py\u001b[0m in \u001b[0;36mget_loc\u001b[0;34m(self, key, method, tolerance)\u001b[0m\n\u001b[1;32m   2392\u001b[0m             \u001b[0;32mtry\u001b[0m\u001b[0;34m:\u001b[0m\u001b[0;34m\u001b[0m\u001b[0m\n\u001b[0;32m-> 2393\u001b[0;31m                 \u001b[0;32mreturn\u001b[0m \u001b[0mself\u001b[0m\u001b[0;34m.\u001b[0m\u001b[0m_engine\u001b[0m\u001b[0;34m.\u001b[0m\u001b[0mget_loc\u001b[0m\u001b[0;34m(\u001b[0m\u001b[0mkey\u001b[0m\u001b[0;34m)\u001b[0m\u001b[0;34m\u001b[0m\u001b[0m\n\u001b[0m\u001b[1;32m   2394\u001b[0m             \u001b[0;32mexcept\u001b[0m \u001b[0mKeyError\u001b[0m\u001b[0;34m:\u001b[0m\u001b[0;34m\u001b[0m\u001b[0m\n",
      "\u001b[0;32mpandas/_libs/index.pyx\u001b[0m in \u001b[0;36mpandas._libs.index.IndexEngine.get_loc (pandas/_libs/index.c:5239)\u001b[0;34m()\u001b[0m\n",
      "\u001b[0;32mpandas/_libs/index.pyx\u001b[0m in \u001b[0;36mpandas._libs.index.IndexEngine.get_loc (pandas/_libs/index.c:5085)\u001b[0;34m()\u001b[0m\n",
      "\u001b[0;32mpandas/_libs/hashtable_class_helper.pxi\u001b[0m in \u001b[0;36mpandas._libs.hashtable.PyObjectHashTable.get_item (pandas/_libs/hashtable.c:20405)\u001b[0;34m()\u001b[0m\n",
      "\u001b[0;32mpandas/_libs/hashtable_class_helper.pxi\u001b[0m in \u001b[0;36mpandas._libs.hashtable.PyObjectHashTable.get_item (pandas/_libs/hashtable.c:20359)\u001b[0;34m()\u001b[0m\n",
      "\u001b[0;31mKeyError\u001b[0m: <pandas.core.indexing._LocIndexer object at 0x7fedd38aadd8>",
      "\nDuring handling of the above exception, another exception occurred:\n",
      "\u001b[0;31mKeyError\u001b[0m                                  Traceback (most recent call last)",
      "\u001b[0;32m<ipython-input-16-05ca07d3bd20>\u001b[0m in \u001b[0;36m<module>\u001b[0;34m()\u001b[0m\n\u001b[1;32m      1\u001b[0m \u001b[0minds\u001b[0m \u001b[0;34m=\u001b[0m \u001b[0mdf\u001b[0m\u001b[0;34m.\u001b[0m\u001b[0mloc\u001b[0m\u001b[0;34m(\u001b[0m\u001b[0mdf\u001b[0m\u001b[0;34m.\u001b[0m\u001b[0manimalNum\u001b[0m \u001b[0;34m==\u001b[0m \u001b[0;36m1\u001b[0m\u001b[0;34m)\u001b[0m\u001b[0;34m\u001b[0m\u001b[0m\n\u001b[0;32m----> 2\u001b[0;31m \u001b[0mdf\u001b[0m\u001b[0;34m[\u001b[0m\u001b[0minds\u001b[0m\u001b[0;34m]\u001b[0m\u001b[0;34m\u001b[0m\u001b[0m\n\u001b[0m",
      "\u001b[0;32m/home/orthogonull/anaconda3/envs/py36/lib/python3.6/site-packages/pandas/core/frame.py\u001b[0m in \u001b[0;36m__getitem__\u001b[0;34m(self, key)\u001b[0m\n\u001b[1;32m   2060\u001b[0m             \u001b[0;32mreturn\u001b[0m \u001b[0mself\u001b[0m\u001b[0;34m.\u001b[0m\u001b[0m_getitem_multilevel\u001b[0m\u001b[0;34m(\u001b[0m\u001b[0mkey\u001b[0m\u001b[0;34m)\u001b[0m\u001b[0;34m\u001b[0m\u001b[0m\n\u001b[1;32m   2061\u001b[0m         \u001b[0;32melse\u001b[0m\u001b[0;34m:\u001b[0m\u001b[0;34m\u001b[0m\u001b[0m\n\u001b[0;32m-> 2062\u001b[0;31m             \u001b[0;32mreturn\u001b[0m \u001b[0mself\u001b[0m\u001b[0;34m.\u001b[0m\u001b[0m_getitem_column\u001b[0m\u001b[0;34m(\u001b[0m\u001b[0mkey\u001b[0m\u001b[0;34m)\u001b[0m\u001b[0;34m\u001b[0m\u001b[0m\n\u001b[0m\u001b[1;32m   2063\u001b[0m \u001b[0;34m\u001b[0m\u001b[0m\n\u001b[1;32m   2064\u001b[0m     \u001b[0;32mdef\u001b[0m \u001b[0m_getitem_column\u001b[0m\u001b[0;34m(\u001b[0m\u001b[0mself\u001b[0m\u001b[0;34m,\u001b[0m \u001b[0mkey\u001b[0m\u001b[0;34m)\u001b[0m\u001b[0;34m:\u001b[0m\u001b[0;34m\u001b[0m\u001b[0m\n",
      "\u001b[0;32m/home/orthogonull/anaconda3/envs/py36/lib/python3.6/site-packages/pandas/core/frame.py\u001b[0m in \u001b[0;36m_getitem_column\u001b[0;34m(self, key)\u001b[0m\n\u001b[1;32m   2067\u001b[0m         \u001b[0;31m# get column\u001b[0m\u001b[0;34m\u001b[0m\u001b[0;34m\u001b[0m\u001b[0m\n\u001b[1;32m   2068\u001b[0m         \u001b[0;32mif\u001b[0m \u001b[0mself\u001b[0m\u001b[0;34m.\u001b[0m\u001b[0mcolumns\u001b[0m\u001b[0;34m.\u001b[0m\u001b[0mis_unique\u001b[0m\u001b[0;34m:\u001b[0m\u001b[0;34m\u001b[0m\u001b[0m\n\u001b[0;32m-> 2069\u001b[0;31m             \u001b[0;32mreturn\u001b[0m \u001b[0mself\u001b[0m\u001b[0;34m.\u001b[0m\u001b[0m_get_item_cache\u001b[0m\u001b[0;34m(\u001b[0m\u001b[0mkey\u001b[0m\u001b[0;34m)\u001b[0m\u001b[0;34m\u001b[0m\u001b[0m\n\u001b[0m\u001b[1;32m   2070\u001b[0m \u001b[0;34m\u001b[0m\u001b[0m\n\u001b[1;32m   2071\u001b[0m         \u001b[0;31m# duplicate columns & possible reduce dimensionality\u001b[0m\u001b[0;34m\u001b[0m\u001b[0;34m\u001b[0m\u001b[0m\n",
      "\u001b[0;32m/home/orthogonull/anaconda3/envs/py36/lib/python3.6/site-packages/pandas/core/generic.py\u001b[0m in \u001b[0;36m_get_item_cache\u001b[0;34m(self, item)\u001b[0m\n\u001b[1;32m   1532\u001b[0m         \u001b[0mres\u001b[0m \u001b[0;34m=\u001b[0m \u001b[0mcache\u001b[0m\u001b[0;34m.\u001b[0m\u001b[0mget\u001b[0m\u001b[0;34m(\u001b[0m\u001b[0mitem\u001b[0m\u001b[0;34m)\u001b[0m\u001b[0;34m\u001b[0m\u001b[0m\n\u001b[1;32m   1533\u001b[0m         \u001b[0;32mif\u001b[0m \u001b[0mres\u001b[0m \u001b[0;32mis\u001b[0m \u001b[0;32mNone\u001b[0m\u001b[0;34m:\u001b[0m\u001b[0;34m\u001b[0m\u001b[0m\n\u001b[0;32m-> 1534\u001b[0;31m             \u001b[0mvalues\u001b[0m \u001b[0;34m=\u001b[0m \u001b[0mself\u001b[0m\u001b[0;34m.\u001b[0m\u001b[0m_data\u001b[0m\u001b[0;34m.\u001b[0m\u001b[0mget\u001b[0m\u001b[0;34m(\u001b[0m\u001b[0mitem\u001b[0m\u001b[0;34m)\u001b[0m\u001b[0;34m\u001b[0m\u001b[0m\n\u001b[0m\u001b[1;32m   1535\u001b[0m             \u001b[0mres\u001b[0m \u001b[0;34m=\u001b[0m \u001b[0mself\u001b[0m\u001b[0;34m.\u001b[0m\u001b[0m_box_item_values\u001b[0m\u001b[0;34m(\u001b[0m\u001b[0mitem\u001b[0m\u001b[0;34m,\u001b[0m \u001b[0mvalues\u001b[0m\u001b[0;34m)\u001b[0m\u001b[0;34m\u001b[0m\u001b[0m\n\u001b[1;32m   1536\u001b[0m             \u001b[0mcache\u001b[0m\u001b[0;34m[\u001b[0m\u001b[0mitem\u001b[0m\u001b[0;34m]\u001b[0m \u001b[0;34m=\u001b[0m \u001b[0mres\u001b[0m\u001b[0;34m\u001b[0m\u001b[0m\n",
      "\u001b[0;32m/home/orthogonull/anaconda3/envs/py36/lib/python3.6/site-packages/pandas/core/internals.py\u001b[0m in \u001b[0;36mget\u001b[0;34m(self, item, fastpath)\u001b[0m\n\u001b[1;32m   3588\u001b[0m \u001b[0;34m\u001b[0m\u001b[0m\n\u001b[1;32m   3589\u001b[0m             \u001b[0;32mif\u001b[0m \u001b[0;32mnot\u001b[0m \u001b[0misnull\u001b[0m\u001b[0;34m(\u001b[0m\u001b[0mitem\u001b[0m\u001b[0;34m)\u001b[0m\u001b[0;34m:\u001b[0m\u001b[0;34m\u001b[0m\u001b[0m\n\u001b[0;32m-> 3590\u001b[0;31m                 \u001b[0mloc\u001b[0m \u001b[0;34m=\u001b[0m \u001b[0mself\u001b[0m\u001b[0;34m.\u001b[0m\u001b[0mitems\u001b[0m\u001b[0;34m.\u001b[0m\u001b[0mget_loc\u001b[0m\u001b[0;34m(\u001b[0m\u001b[0mitem\u001b[0m\u001b[0;34m)\u001b[0m\u001b[0;34m\u001b[0m\u001b[0m\n\u001b[0m\u001b[1;32m   3591\u001b[0m             \u001b[0;32melse\u001b[0m\u001b[0;34m:\u001b[0m\u001b[0;34m\u001b[0m\u001b[0m\n\u001b[1;32m   3592\u001b[0m                 \u001b[0mindexer\u001b[0m \u001b[0;34m=\u001b[0m \u001b[0mnp\u001b[0m\u001b[0;34m.\u001b[0m\u001b[0marange\u001b[0m\u001b[0;34m(\u001b[0m\u001b[0mlen\u001b[0m\u001b[0;34m(\u001b[0m\u001b[0mself\u001b[0m\u001b[0;34m.\u001b[0m\u001b[0mitems\u001b[0m\u001b[0;34m)\u001b[0m\u001b[0;34m)\u001b[0m\u001b[0;34m[\u001b[0m\u001b[0misnull\u001b[0m\u001b[0;34m(\u001b[0m\u001b[0mself\u001b[0m\u001b[0;34m.\u001b[0m\u001b[0mitems\u001b[0m\u001b[0;34m)\u001b[0m\u001b[0;34m]\u001b[0m\u001b[0;34m\u001b[0m\u001b[0m\n",
      "\u001b[0;32m/home/orthogonull/anaconda3/envs/py36/lib/python3.6/site-packages/pandas/core/indexes/base.py\u001b[0m in \u001b[0;36mget_loc\u001b[0;34m(self, key, method, tolerance)\u001b[0m\n\u001b[1;32m   2393\u001b[0m                 \u001b[0;32mreturn\u001b[0m \u001b[0mself\u001b[0m\u001b[0;34m.\u001b[0m\u001b[0m_engine\u001b[0m\u001b[0;34m.\u001b[0m\u001b[0mget_loc\u001b[0m\u001b[0;34m(\u001b[0m\u001b[0mkey\u001b[0m\u001b[0;34m)\u001b[0m\u001b[0;34m\u001b[0m\u001b[0m\n\u001b[1;32m   2394\u001b[0m             \u001b[0;32mexcept\u001b[0m \u001b[0mKeyError\u001b[0m\u001b[0;34m:\u001b[0m\u001b[0;34m\u001b[0m\u001b[0m\n\u001b[0;32m-> 2395\u001b[0;31m                 \u001b[0;32mreturn\u001b[0m \u001b[0mself\u001b[0m\u001b[0;34m.\u001b[0m\u001b[0m_engine\u001b[0m\u001b[0;34m.\u001b[0m\u001b[0mget_loc\u001b[0m\u001b[0;34m(\u001b[0m\u001b[0mself\u001b[0m\u001b[0;34m.\u001b[0m\u001b[0m_maybe_cast_indexer\u001b[0m\u001b[0;34m(\u001b[0m\u001b[0mkey\u001b[0m\u001b[0;34m)\u001b[0m\u001b[0;34m)\u001b[0m\u001b[0;34m\u001b[0m\u001b[0m\n\u001b[0m\u001b[1;32m   2396\u001b[0m \u001b[0;34m\u001b[0m\u001b[0m\n\u001b[1;32m   2397\u001b[0m         \u001b[0mindexer\u001b[0m \u001b[0;34m=\u001b[0m \u001b[0mself\u001b[0m\u001b[0;34m.\u001b[0m\u001b[0mget_indexer\u001b[0m\u001b[0;34m(\u001b[0m\u001b[0;34m[\u001b[0m\u001b[0mkey\u001b[0m\u001b[0;34m]\u001b[0m\u001b[0;34m,\u001b[0m \u001b[0mmethod\u001b[0m\u001b[0;34m=\u001b[0m\u001b[0mmethod\u001b[0m\u001b[0;34m,\u001b[0m \u001b[0mtolerance\u001b[0m\u001b[0;34m=\u001b[0m\u001b[0mtolerance\u001b[0m\u001b[0;34m)\u001b[0m\u001b[0;34m\u001b[0m\u001b[0m\n",
      "\u001b[0;32mpandas/_libs/index.pyx\u001b[0m in \u001b[0;36mpandas._libs.index.IndexEngine.get_loc (pandas/_libs/index.c:5239)\u001b[0;34m()\u001b[0m\n",
      "\u001b[0;32mpandas/_libs/index.pyx\u001b[0m in \u001b[0;36mpandas._libs.index.IndexEngine.get_loc (pandas/_libs/index.c:5085)\u001b[0;34m()\u001b[0m\n",
      "\u001b[0;32mpandas/_libs/hashtable_class_helper.pxi\u001b[0m in \u001b[0;36mpandas._libs.hashtable.PyObjectHashTable.get_item (pandas/_libs/hashtable.c:20405)\u001b[0;34m()\u001b[0m\n",
      "\u001b[0;32mpandas/_libs/hashtable_class_helper.pxi\u001b[0m in \u001b[0;36mpandas._libs.hashtable.PyObjectHashTable.get_item (pandas/_libs/hashtable.c:20359)\u001b[0;34m()\u001b[0m\n",
      "\u001b[0;31mKeyError\u001b[0m: <pandas.core.indexing._LocIndexer object at 0x7fedd38aadd8>"
     ]
    }
   ],
   "source": [
    "\n",
    "\n",
    "\n",
    "\n",
    "inds = df.loc(df.animalNum == 1)\n",
    "df[inds]"
   ]
  },
  {
   "cell_type": "code",
   "execution_count": null,
   "metadata": {
    "collapsed": true
   },
   "outputs": [],
   "source": []
  }
 ],
 "metadata": {
  "kernelspec": {
   "display_name": "Python 3",
   "language": "python",
   "name": "python3"
  },
  "language_info": {
   "codemirror_mode": {
    "name": "ipython",
    "version": 3
   },
   "file_extension": ".py",
   "mimetype": "text/x-python",
   "name": "python",
   "nbconvert_exporter": "python",
   "pygments_lexer": "ipython3",
   "version": "3.6.1"
  }
 },
 "nbformat": 4,
 "nbformat_minor": 2
}
