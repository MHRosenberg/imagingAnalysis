{
 "cells": [
  {
   "cell_type": "code",
   "execution_count": 52,
   "metadata": {},
   "outputs": [
    {
     "name": "stdout",
     "output_type": "stream",
     "text": [
      "data files: \n",
      " [ '/home/orthogonull/a_MHR/a_research/a_gitResearch/git_ignored/imagingAnalysis/data/2_tidyFormat/mouse1.csv'\n",
      " '/home/orthogonull/a_MHR/a_research/a_gitResearch/git_ignored/imagingAnalysis/data/2_tidyFormat/mouse2.csv'\n",
      " '/home/orthogonull/a_MHR/a_research/a_gitResearch/git_ignored/imagingAnalysis/data/2_tidyFormat/mouse3.csv'\n",
      " '/home/orthogonull/a_MHR/a_research/a_gitResearch/git_ignored/imagingAnalysis/data/2_tidyFormat/mouse4.csv'\n",
      " '/home/orthogonull/a_MHR/a_research/a_gitResearch/git_ignored/imagingAnalysis/data/2_tidyFormat/mouse5.csv']\n",
      "loading and appending to prior pandas data frame\n",
      "/home/orthogonull/a_MHR/a_research/a_gitResearch/git_ignored/imagingAnalysis/data/2_tidyFormat/mouse1.csv\n",
      "/home/orthogonull/a_MHR/a_research/a_gitResearch/git_ignored/imagingAnalysis/data/2_tidyFormat/mouse2.csv\n",
      "/home/orthogonull/a_MHR/a_research/a_gitResearch/git_ignored/imagingAnalysis/data/2_tidyFormat/mouse3.csv\n",
      "/home/orthogonull/a_MHR/a_research/a_gitResearch/git_ignored/imagingAnalysis/data/2_tidyFormat/mouse4.csv\n",
      "/home/orthogonull/a_MHR/a_research/a_gitResearch/git_ignored/imagingAnalysis/data/2_tidyFormat/mouse5.csv\n",
      "finished loading\n"
     ]
    }
   ],
   "source": [
    "# load tidy dataset\n",
    "\n",
    "import pandas as pd\n",
    "import os.path\n",
    "import numpy as np\n",
    "from itertools import combinations\n",
    "import glob\n",
    "\n",
    "#import numpy as np\n",
    "#import loadTidyCSV.py\n",
    "\n",
    "def loadTidy(tidyData): \n",
    "    assert os.path.isfile(tidyData), \"desired file does not exist\" \n",
    "    df = pd.read_csv(tidyData, header = None, names = [\"date\", \"animal\", \"session\", \"trial\", \"stimulus\", \"neuronID\", \"timePt\", \"CaSignal\"])\n",
    "    return df \n",
    "\n",
    "# tidy csv file and dir (use makeTidy_Anderson.m to convert Ann's structure to csv)\n",
    "tidyDataDir = '/home/orthogonull/a_MHR/a_research/a_gitResearch/git_ignored/imagingAnalysis/data/2_tidyFormat/'\n",
    "tidyDataFileTemplate = 'mouse'\n",
    "tidyDataFileExt = '.csv'\n",
    "\n",
    "# get all input files you want to add to the same dataset\n",
    "dataFiles = np.sort(glob.glob(\\\n",
    "    \"/home/orthogonull/a_MHR/a_research/a_gitResearch/git_ignored/imagingAnalysis/data/2_tidyFormat/mouse*.csv\"))\n",
    "print(\"data files: \\n\", dataFiles)\n",
    "\n",
    "\n",
    "print(\"loading and appending to prior pandas data frame\")\n",
    "dataLst = []\n",
    "for file in dataFiles:\n",
    "    print(file)\n",
    "    dataLst.append(loadTidy(file))\n",
    "df = pd.concat(dataLst)\n",
    "\n",
    "print('finished loading')\n",
    "\n",
    "############# ALL DATA STORED HERE IN DF\n",
    "    "
   ]
  },
  {
   "cell_type": "code",
   "execution_count": 53,
   "metadata": {},
   "outputs": [
    {
     "name": "stdout",
     "output_type": "stream",
     "text": [
      "dates date\n",
      "animals animal\n",
      "sessions session\n",
      "maxTrials trial\n",
      "stimuli stimulus\n",
      "{'dates': array(['2017_05_00'], \n",
      "      dtype='<U10'), 'animals': array([1, 3, 4, 5, 7]), 'sessions': array([1, 2, 3]), 'maxTrials': array([ 1,  2,  3,  4,  5,  6,  7,  8,  9, 10, 11, 12, 13, 14, 15, 16, 17,\n",
      "       18, 19, 20, 21]), 'stimuli': array(['USS', 'baseline', 'female', 'male', 'mineral oil odor',\n",
      "       'peanut odor', 'pred odor', 'rat', 'tone', 'toy'], \n",
      "      dtype='<U16')}\n"
     ]
    }
   ],
   "source": [
    "## survey/search data to prepare for split operation\n",
    "metaStrs = [['dates','date'],['animals','animal'],['sessions','session'],['maxTrials','trial'],['stimuli','stimulus']]\n",
    "\n",
    "## this dictionary holds useful info regarding the range of inputs to loop/search over subsequently\n",
    "metaDct = {}\n",
    "for a,b in metaStrs:\n",
    "    print(a,b)\n",
    "    metaDct[a] = np.unique(df[b].tolist())\n",
    "print(metaDct)\n"
   ]
  },
  {
   "cell_type": "code",
   "execution_count": 19,
   "metadata": {},
   "outputs": [
    {
     "name": "stdout",
     "output_type": "stream",
     "text": [
      "26808\n"
     ]
    }
   ],
   "source": [
    "testInds = (df['animal']==1) & (df['session']==1) & (df['stimulus']=='USS') & (df['trial']==5)\n",
    "print(np.sum(testInds))"
   ]
  },
  {
   "cell_type": "code",
   "execution_count": null,
   "metadata": {
    "collapsed": true
   },
   "outputs": [],
   "source": []
  },
  {
   "cell_type": "code",
   "execution_count": 49,
   "metadata": {
    "scrolled": true
   },
   "outputs": [
    {
     "name": "stdout",
     "output_type": "stream",
     "text": [
      "animal:  1\n",
      "session: 1\n",
      "USS baseline\n",
      "[ 5 10 16] [ 1  8 15]\n",
      "expection\n",
      "5\n",
      "1\n"
     ]
    },
    {
     "name": "stderr",
     "output_type": "stream",
     "text": [
      "/home/orthogonull/anaconda3/envs/py36/lib/python3.6/site-packages/pandas/core/ops.py:798: FutureWarning: elementwise comparison failed; returning scalar instead, but in the future will perform elementwise comparison\n",
      "  result = getattr(x, name)(y)\n"
     ]
    },
    {
     "ename": "TypeError",
     "evalue": "invalid type comparison",
     "output_type": "error",
     "traceback": [
      "\u001b[0;31m---------------------------------------------------------------------------\u001b[0m",
      "\u001b[0;31mAssertionError\u001b[0m                            Traceback (most recent call last)",
      "\u001b[0;32m<ipython-input-49-271842a44cc5>\u001b[0m in \u001b[0;36m<module>\u001b[0;34m()\u001b[0m\n\u001b[1;32m     31\u001b[0m                 \u001b[0;32mtry\u001b[0m\u001b[0;34m:\u001b[0m\u001b[0;34m\u001b[0m\u001b[0m\n\u001b[0;32m---> 32\u001b[0;31m                     \u001b[0;32massert\u001b[0m \u001b[0mtrialA\u001b[0m \u001b[0;34m!=\u001b[0m \u001b[0;34m[\u001b[0m\u001b[0;34m]\u001b[0m \u001b[0;32mand\u001b[0m \u001b[0mtrialB\u001b[0m \u001b[0;34m!=\u001b[0m \u001b[0;34m[\u001b[0m\u001b[0;34m]\u001b[0m\u001b[0;34m,\u001b[0m \u001b[0;34m\"no fair comparison available (trial not conducted for one of the stimulus types)\"\u001b[0m\u001b[0;34m\u001b[0m\u001b[0m\n\u001b[0m\u001b[1;32m     33\u001b[0m \u001b[0;31m#                     print(\"fair comparisons exist --> proceeding\")\u001b[0m\u001b[0;34m\u001b[0m\u001b[0;34m\u001b[0m\u001b[0m\n",
      "\u001b[0;31mAssertionError\u001b[0m: no fair comparison available (trial not conducted for one of the stimulus types)",
      "\nDuring handling of the above exception, another exception occurred:\n",
      "\u001b[0;31mTypeError\u001b[0m                                 Traceback (most recent call last)",
      "\u001b[0;32m<ipython-input-49-271842a44cc5>\u001b[0m in \u001b[0;36m<module>\u001b[0;34m()\u001b[0m\n\u001b[1;32m     36\u001b[0m                     \u001b[0mprint\u001b[0m\u001b[0;34m(\u001b[0m\u001b[0mtrialA\u001b[0m\u001b[0;34m)\u001b[0m\u001b[0;34m\u001b[0m\u001b[0m\n\u001b[1;32m     37\u001b[0m                     \u001b[0mprint\u001b[0m\u001b[0;34m(\u001b[0m\u001b[0mtrialB\u001b[0m\u001b[0;34m)\u001b[0m\u001b[0;34m\u001b[0m\u001b[0m\n\u001b[0;32m---> 38\u001b[0;31m                     \u001b[0mnumTimePts_thisTrial_stimA\u001b[0m \u001b[0;34m=\u001b[0m \u001b[0mnp\u001b[0m\u001b[0;34m.\u001b[0m\u001b[0munique\u001b[0m\u001b[0;34m(\u001b[0m\u001b[0mdf_anmlSessStimA\u001b[0m\u001b[0;34m[\u001b[0m\u001b[0mdf_anmlSessStimA\u001b[0m\u001b[0;34m[\u001b[0m\u001b[0;34m'trial'\u001b[0m\u001b[0;34m]\u001b[0m \u001b[0;34m==\u001b[0m \u001b[0mstr\u001b[0m\u001b[0;34m(\u001b[0m\u001b[0mtrialA\u001b[0m\u001b[0;34m)\u001b[0m\u001b[0;34m]\u001b[0m\u001b[0;34m)\u001b[0m\u001b[0;34m.\u001b[0m\u001b[0mtolist\u001b[0m\u001b[0;34m(\u001b[0m\u001b[0;34m)\u001b[0m\u001b[0;34m\u001b[0m\u001b[0m\n\u001b[0m\u001b[1;32m     39\u001b[0m                     \u001b[0mnumTimePts_thisTrial_stimB\u001b[0m \u001b[0;34m=\u001b[0m \u001b[0mnp\u001b[0m\u001b[0;34m.\u001b[0m\u001b[0munique\u001b[0m\u001b[0;34m(\u001b[0m\u001b[0mdf_anmlSessStimB\u001b[0m\u001b[0;34m[\u001b[0m\u001b[0mdf_anmlSessStimA\u001b[0m\u001b[0;34m[\u001b[0m\u001b[0;34m'trial'\u001b[0m\u001b[0;34m]\u001b[0m \u001b[0;34m==\u001b[0m \u001b[0mstr\u001b[0m\u001b[0;34m(\u001b[0m\u001b[0mtrialB\u001b[0m\u001b[0;34m)\u001b[0m\u001b[0;34m]\u001b[0m\u001b[0;34m)\u001b[0m\u001b[0;34m.\u001b[0m\u001b[0mtolist\u001b[0m\u001b[0;34m(\u001b[0m\u001b[0;34m)\u001b[0m\u001b[0;34m\u001b[0m\u001b[0m\n\u001b[1;32m     40\u001b[0m                     \u001b[0mprint\u001b[0m\u001b[0;34m(\u001b[0m\u001b[0mnumTimePts_thisTrial_stimA\u001b[0m\u001b[0;34m,\u001b[0m\u001b[0mnumTimePts_thisTrial_stimB\u001b[0m\u001b[0;34m)\u001b[0m\u001b[0;34m\u001b[0m\u001b[0m\n",
      "\u001b[0;32m/home/orthogonull/anaconda3/envs/py36/lib/python3.6/site-packages/pandas/core/ops.py\u001b[0m in \u001b[0;36mwrapper\u001b[0;34m(self, other, axis)\u001b[0m\n\u001b[1;32m    859\u001b[0m \u001b[0;34m\u001b[0m\u001b[0m\n\u001b[1;32m    860\u001b[0m             \u001b[0;32mwith\u001b[0m \u001b[0mnp\u001b[0m\u001b[0;34m.\u001b[0m\u001b[0merrstate\u001b[0m\u001b[0;34m(\u001b[0m\u001b[0mall\u001b[0m\u001b[0;34m=\u001b[0m\u001b[0;34m'ignore'\u001b[0m\u001b[0;34m)\u001b[0m\u001b[0;34m:\u001b[0m\u001b[0;34m\u001b[0m\u001b[0m\n\u001b[0;32m--> 861\u001b[0;31m                 \u001b[0mres\u001b[0m \u001b[0;34m=\u001b[0m \u001b[0mna_op\u001b[0m\u001b[0;34m(\u001b[0m\u001b[0mvalues\u001b[0m\u001b[0;34m,\u001b[0m \u001b[0mother\u001b[0m\u001b[0;34m)\u001b[0m\u001b[0;34m\u001b[0m\u001b[0m\n\u001b[0m\u001b[1;32m    862\u001b[0m             \u001b[0;32mif\u001b[0m \u001b[0mis_scalar\u001b[0m\u001b[0;34m(\u001b[0m\u001b[0mres\u001b[0m\u001b[0;34m)\u001b[0m\u001b[0;34m:\u001b[0m\u001b[0;34m\u001b[0m\u001b[0m\n\u001b[1;32m    863\u001b[0m                 raise TypeError('Could not compare %s type with Series' %\n",
      "\u001b[0;32m/home/orthogonull/anaconda3/envs/py36/lib/python3.6/site-packages/pandas/core/ops.py\u001b[0m in \u001b[0;36mna_op\u001b[0;34m(x, y)\u001b[0m\n\u001b[1;32m    798\u001b[0m                     \u001b[0mresult\u001b[0m \u001b[0;34m=\u001b[0m \u001b[0mgetattr\u001b[0m\u001b[0;34m(\u001b[0m\u001b[0mx\u001b[0m\u001b[0;34m,\u001b[0m \u001b[0mname\u001b[0m\u001b[0;34m)\u001b[0m\u001b[0;34m(\u001b[0m\u001b[0my\u001b[0m\u001b[0;34m)\u001b[0m\u001b[0;34m\u001b[0m\u001b[0m\n\u001b[1;32m    799\u001b[0m                 \u001b[0;32mif\u001b[0m \u001b[0mresult\u001b[0m \u001b[0;32mis\u001b[0m \u001b[0mNotImplemented\u001b[0m\u001b[0;34m:\u001b[0m\u001b[0;34m\u001b[0m\u001b[0m\n\u001b[0;32m--> 800\u001b[0;31m                     \u001b[0;32mraise\u001b[0m \u001b[0mTypeError\u001b[0m\u001b[0;34m(\u001b[0m\u001b[0;34m\"invalid type comparison\"\u001b[0m\u001b[0;34m)\u001b[0m\u001b[0;34m\u001b[0m\u001b[0m\n\u001b[0m\u001b[1;32m    801\u001b[0m             \u001b[0;32mexcept\u001b[0m \u001b[0mAttributeError\u001b[0m\u001b[0;34m:\u001b[0m\u001b[0;34m\u001b[0m\u001b[0m\n\u001b[1;32m    802\u001b[0m                 \u001b[0mresult\u001b[0m \u001b[0;34m=\u001b[0m \u001b[0mop\u001b[0m\u001b[0;34m(\u001b[0m\u001b[0mx\u001b[0m\u001b[0;34m,\u001b[0m \u001b[0my\u001b[0m\u001b[0;34m)\u001b[0m\u001b[0;34m\u001b[0m\u001b[0m\n",
      "\u001b[0;31mTypeError\u001b[0m: invalid type comparison"
     ]
    }
   ],
   "source": [
    "### get all pairs of stimuli\n",
    "stimCmbTpl = tuple(combinations(metaDct['stimuli'],2)) \n",
    "\n",
    "######### MAIN LOOP ##########\n",
    "for (stimA, stimB) in stimCmbTpl:\n",
    "    \n",
    "    ## get all data for both trial types\n",
    "    indsBoth = (df['stimulus']==stimA) | (df['stimulus']==stimB)\n",
    "    df_bothStimuli = df[indsBoth]\n",
    "\n",
    "    ## select data by animals and sessions\n",
    "    for animal in metaDct['animals']:\n",
    "        print('animal: ', animal)\n",
    "        for session in metaDct['sessions']:\n",
    "            print('session:', session)\n",
    "            inds_animalSession = (df_bothStimuli['animal'] == animal) & (df_bothStimuli['session'] == session)\n",
    "            df_animalSession = df_bothStimuli[inds_animalSession]\n",
    "            \n",
    "            print(stimA,stimB)\n",
    "            ## get both stim\n",
    "            df_anmlSessStimA = df_animalSession[df_animalSession['stimulus'] == stimA]\n",
    "            df_anmlSessStimB = df_animalSession[df_animalSession['stimulus'] == stimB]\n",
    "            \n",
    "            ## get trial numbers of each stimuli's presentations \n",
    "            trials_stimA = np.unique(df_anmlSessStimA['trial'].tolist())\n",
    "            trials_stimB = np.unique(df_anmlSessStimB['trial'].tolist())\n",
    "            print(trials_stimA,trials_stimB)\n",
    "        \n",
    "            ## CHECK BOTH PRESENTATIONS (USU 2 OR 3)\n",
    "            for trialA,trialB in zip(trials_stimA,trials_stimB): \n",
    "                \n",
    "                \n",
    "                \n",
    "                \n",
    "                \n",
    "                \n",
    "                \n",
    "                \n",
    "                \n",
    "                try:                    \n",
    "                    assert trialA != [] and trialB != [], \"no fair comparison available (trial not conducted for one of the stimulus types)\"\n",
    "#                     print(\"fair comparisons exist --> proceeding\")\n",
    "                except:\n",
    "                    print(\"expection\")\n",
    "                    print(trialA)\n",
    "                    print(trialB)\n",
    "                    numTimePts_thisTrial_stimA = np.unique(df_anmlSessStimA[df_anmlSessStimA['trial'] == str(trialA)]).tolist()\n",
    "                    numTimePts_thisTrial_stimB = np.unique(df_anmlSessStimB[df_anmlSessStimA['trial'] == str(trialB)]).tolist()\n",
    "                    print(numTimePts_thisTrial_stimA,numTimePts_thisTrial_stimB)\n",
    "                    break    \n",
    "            \n",
    "            indsB = (df_bothStimuli['stimulus'] == stimB) & (df_bothStimuli['session'] == session)\n",
    "            numA = np.sum(indsA)\n",
    "            numB = np.sum(indsB)\n",
    "            print(numA,numB)\n",
    "    #         print(df_bothStimuli[indsA],df_bothStimuli[indsB])\n",
    "            print(\"sum\",np.sum(indsA))\n",
    "        print('\\n')\n",
    "\n",
    "    ## (REALLY? SAME RANDOMIZATION FOR EVERY ANIMAL?)\n"
   ]
  },
  {
   "cell_type": "code",
   "execution_count": null,
   "metadata": {
    "collapsed": true
   },
   "outputs": [],
   "source": [
    "np.unique(df_anmlSessStimA[df_anmlSessStimA['trial'] == trialA].tolist())"
   ]
  },
  {
   "cell_type": "code",
   "execution_count": null,
   "metadata": {
    "collapsed": true
   },
   "outputs": [],
   "source": []
  },
  {
   "cell_type": "code",
   "execution_count": 88,
   "metadata": {},
   "outputs": [
    {
     "name": "stdout",
     "output_type": "stream",
     "text": [
      "[1]\n",
      "['USS' 'baseline' 'female' 'male' 'rat' 'tone' 'toy']\n"
     ]
    }
   ],
   "source": [
    "print(metaDct['animals'])\n",
    "print(metaDct['stimuli'])\n",
    "\n"
   ]
  },
  {
   "cell_type": "code",
   "execution_count": 91,
   "metadata": {
    "collapsed": true
   },
   "outputs": [
    {
     "name": "stdout",
     "output_type": "stream",
     "text": [
      "2017_05_00 1 1 USS\n",
      "2017_05_00 1 1 baseline\n",
      "2017_05_00 1 1 female\n",
      "2017_05_00 1 1 male\n",
      "2017_05_00 1 1 rat\n",
      "2017_05_00 1 1 tone\n",
      "2017_05_00 1 1 toy\n",
      "2017_05_00 1 2 USS\n",
      "2017_05_00 1 2 baseline\n",
      "2017_05_00 1 2 female\n",
      "2017_05_00 1 2 male\n",
      "2017_05_00 1 2 rat\n",
      "2017_05_00 1 2 tone\n",
      "2017_05_00 1 2 toy\n",
      "2017_05_00 1 3 USS\n",
      "2017_05_00 1 3 baseline\n",
      "2017_05_00 1 3 female\n",
      "2017_05_00 1 3 male\n",
      "2017_05_00 1 3 rat\n",
      "2017_05_00 1 3 tone\n",
      "2017_05_00 1 3 toy\n"
     ]
    }
   ],
   "source": [
    "# this works but is against the whole point of doing pandas in the first place\n",
    "\n",
    "for date in metaDct['dates']:\n",
    "    for animal in metaDct['animals']:\n",
    "        for session in metaDct['sessions']:\n",
    "            for stimulus in metaDct['stimuli']:\n",
    "                print(date, animal, session, stimulus)\n",
    "                \n",
    "    "
   ]
  },
  {
   "cell_type": "code",
   "execution_count": 17,
   "metadata": {
    "collapsed": true
   },
   "outputs": [
    {
     "name": "stdout",
     "output_type": "stream",
     "text": [
      "               date  animalNum  sessionNum  trialNum stimulusType  neuronID  \\\n",
      "36240    2017_05_00          1           1         3          rat         1   \n",
      "36241    2017_05_00          1           1         3          rat         1   \n",
      "36242    2017_05_00          1           1         3          rat         1   \n",
      "36243    2017_05_00          1           1         3          rat         1   \n",
      "36244    2017_05_00          1           1         3          rat         1   \n",
      "36245    2017_05_00          1           1         3          rat         1   \n",
      "36246    2017_05_00          1           1         3          rat         1   \n",
      "36247    2017_05_00          1           1         3          rat         1   \n",
      "36248    2017_05_00          1           1         3          rat         1   \n",
      "36249    2017_05_00          1           1         3          rat         1   \n",
      "36250    2017_05_00          1           1         3          rat         1   \n",
      "36251    2017_05_00          1           1         3          rat         1   \n",
      "36252    2017_05_00          1           1         3          rat         1   \n",
      "36253    2017_05_00          1           1         3          rat         1   \n",
      "36254    2017_05_00          1           1         3          rat         1   \n",
      "36255    2017_05_00          1           1         3          rat         1   \n",
      "36256    2017_05_00          1           1         3          rat         1   \n",
      "36257    2017_05_00          1           1         3          rat         1   \n",
      "36258    2017_05_00          1           1         3          rat         1   \n",
      "36259    2017_05_00          1           1         3          rat         1   \n",
      "36260    2017_05_00          1           1         3          rat         1   \n",
      "36261    2017_05_00          1           1         3          rat         1   \n",
      "36262    2017_05_00          1           1         3          rat         1   \n",
      "36263    2017_05_00          1           1         3          rat         1   \n",
      "36264    2017_05_00          1           1         3          rat         1   \n",
      "36265    2017_05_00          1           1         3          rat         1   \n",
      "36266    2017_05_00          1           1         3          rat         1   \n",
      "36267    2017_05_00          1           1         3          rat         1   \n",
      "36268    2017_05_00          1           1         3          rat         1   \n",
      "36269    2017_05_00          1           1         3          rat         1   \n",
      "...             ...        ...         ...       ...          ...       ...   \n",
      "1585256  2017_05_00          1           3        21          rat        21   \n",
      "1585257  2017_05_00          1           3        21          rat        21   \n",
      "1585258  2017_05_00          1           3        21          rat        21   \n",
      "1585259  2017_05_00          1           3        21          rat        21   \n",
      "1585260  2017_05_00          1           3        21          rat        21   \n",
      "1585261  2017_05_00          1           3        21          rat        21   \n",
      "1585262  2017_05_00          1           3        21          rat        21   \n",
      "1585263  2017_05_00          1           3        21          rat        21   \n",
      "1585264  2017_05_00          1           3        21          rat        21   \n",
      "1585265  2017_05_00          1           3        21          rat        21   \n",
      "1585266  2017_05_00          1           3        21          rat        21   \n",
      "1585267  2017_05_00          1           3        21          rat        21   \n",
      "1585268  2017_05_00          1           3        21          rat        21   \n",
      "1585269  2017_05_00          1           3        21          rat        21   \n",
      "1585270  2017_05_00          1           3        21          rat        21   \n",
      "1585271  2017_05_00          1           3        21          rat        21   \n",
      "1585272  2017_05_00          1           3        21          rat        21   \n",
      "1585273  2017_05_00          1           3        21          rat        21   \n",
      "1585274  2017_05_00          1           3        21          rat        21   \n",
      "1585275  2017_05_00          1           3        21          rat        21   \n",
      "1585276  2017_05_00          1           3        21          rat        21   \n",
      "1585277  2017_05_00          1           3        21          rat        21   \n",
      "1585278  2017_05_00          1           3        21          rat        21   \n",
      "1585279  2017_05_00          1           3        21          rat        21   \n",
      "1585280  2017_05_00          1           3        21          rat        21   \n",
      "1585281  2017_05_00          1           3        21          rat        21   \n",
      "1585282  2017_05_00          1           3        21          rat        21   \n",
      "1585283  2017_05_00          1           3        21          rat        21   \n",
      "1585284  2017_05_00          1           3        21          rat        21   \n",
      "1585285  2017_05_00          1           3        21          rat        21   \n",
      "\n",
      "         timePt  CaSignal  \n",
      "36240         1   4.68050  \n",
      "36241         2   5.61680  \n",
      "36242         3   3.55400  \n",
      "36243         4   5.11350  \n",
      "36244         5   2.54780  \n",
      "36245         6   3.39200  \n",
      "36246         7   3.85930  \n",
      "36247         8   3.73370  \n",
      "36248         9   2.04470  \n",
      "36249        10   2.02200  \n",
      "36250        11   3.69610  \n",
      "36251        12   4.18500  \n",
      "36252        13   4.83710  \n",
      "36253        14   2.39510  \n",
      "36254        15   1.94470  \n",
      "36255        16   2.83460  \n",
      "36256        17   3.81380  \n",
      "36257        18   3.21150  \n",
      "36258        19   3.32660  \n",
      "36259        20   5.63980  \n",
      "36260        21   1.06760  \n",
      "36261        22   2.53410  \n",
      "36262        23   4.79900  \n",
      "36263        24   2.33430  \n",
      "36264        25   2.27690  \n",
      "36265        26   4.69630  \n",
      "36266        27   4.19110  \n",
      "36267        28   1.20030  \n",
      "36268        29   1.21780  \n",
      "36269        30   3.74280  \n",
      "...         ...       ...  \n",
      "1585256    1165   4.43220  \n",
      "1585257    1166   3.29190  \n",
      "1585258    1167   3.90910  \n",
      "1585259    1168   3.87110  \n",
      "1585260    1169   1.79130  \n",
      "1585261    1170   3.84470  \n",
      "1585262    1171   1.99820  \n",
      "1585263    1172   5.00430  \n",
      "1585264    1173   2.64420  \n",
      "1585265    1174   3.15470  \n",
      "1585266    1175   2.38570  \n",
      "1585267    1176   3.45930  \n",
      "1585268    1177   3.39460  \n",
      "1585269    1178   1.94500  \n",
      "1585270    1179   1.88260  \n",
      "1585271    1180   2.20360  \n",
      "1585272    1181   0.26918  \n",
      "1585273    1182   2.61460  \n",
      "1585274    1183   1.04830  \n",
      "1585275    1184   0.64471  \n",
      "1585276    1185   1.60720  \n",
      "1585277    1186   2.73410  \n",
      "1585278    1187   4.24780  \n",
      "1585279    1188   3.13810  \n",
      "1585280    1189   3.38300  \n",
      "1585281    1190   5.45860  \n",
      "1585282    1191   2.43990  \n",
      "1585283    1192   2.88570  \n",
      "1585284    1193   2.41010  \n",
      "1585285    1194  -1.49270  \n",
      "\n",
      "[242191 rows x 8 columns]\n",
      "reached end of file\n"
     ]
    }
   ],
   "source": [
    "\n",
    "# gb = df.groupby(['stimulusType']).get_group('rat')\n",
    "\n",
    "stimGrouped = df.groupby('stimulusType')\n",
    "ratGrpd = stimGrouped.get_group('rat')\n",
    "\n",
    "print(ratGrpd)\n",
    "\n",
    "print('reached end of file')"
   ]
  },
  {
   "cell_type": "code",
   "execution_count": null,
   "metadata": {
    "collapsed": true
   },
   "outputs": [],
   "source": [
    "gb = df.groupby('stimulusType')\n",
    "\n",
    "df_means = gb.apply(np.mean)\n",
    "df_means"
   ]
  },
  {
   "cell_type": "code",
   "execution_count": null,
   "metadata": {
    "collapsed": true
   },
   "outputs": [],
   "source": [
    "for stimType in gb"
   ]
  },
  {
   "cell_type": "code",
   "execution_count": 141,
   "metadata": {
    "collapsed": true
   },
   "outputs": [
    {
     "ename": "KeyError",
     "evalue": "'stimulusType'",
     "output_type": "error",
     "traceback": [
      "\u001b[0;31m---------------------------------------------------------------------------\u001b[0m",
      "\u001b[0;31mKeyError\u001b[0m                                  Traceback (most recent call last)",
      "\u001b[0;32m/home/orthogonull/anaconda3/envs/py36/lib/python3.6/site-packages/pandas/core/indexes/base.py\u001b[0m in \u001b[0;36mget_loc\u001b[0;34m(self, key, method, tolerance)\u001b[0m\n\u001b[1;32m   2392\u001b[0m             \u001b[0;32mtry\u001b[0m\u001b[0;34m:\u001b[0m\u001b[0;34m\u001b[0m\u001b[0m\n\u001b[0;32m-> 2393\u001b[0;31m                 \u001b[0;32mreturn\u001b[0m \u001b[0mself\u001b[0m\u001b[0;34m.\u001b[0m\u001b[0m_engine\u001b[0m\u001b[0;34m.\u001b[0m\u001b[0mget_loc\u001b[0m\u001b[0;34m(\u001b[0m\u001b[0mkey\u001b[0m\u001b[0;34m)\u001b[0m\u001b[0;34m\u001b[0m\u001b[0m\n\u001b[0m\u001b[1;32m   2394\u001b[0m             \u001b[0;32mexcept\u001b[0m \u001b[0mKeyError\u001b[0m\u001b[0;34m:\u001b[0m\u001b[0;34m\u001b[0m\u001b[0m\n",
      "\u001b[0;32mpandas/_libs/index.pyx\u001b[0m in \u001b[0;36mpandas._libs.index.IndexEngine.get_loc (pandas/_libs/index.c:5239)\u001b[0;34m()\u001b[0m\n",
      "\u001b[0;32mpandas/_libs/index.pyx\u001b[0m in \u001b[0;36mpandas._libs.index.IndexEngine.get_loc (pandas/_libs/index.c:5085)\u001b[0;34m()\u001b[0m\n",
      "\u001b[0;32mpandas/_libs/hashtable_class_helper.pxi\u001b[0m in \u001b[0;36mpandas._libs.hashtable.PyObjectHashTable.get_item (pandas/_libs/hashtable.c:20405)\u001b[0;34m()\u001b[0m\n",
      "\u001b[0;32mpandas/_libs/hashtable_class_helper.pxi\u001b[0m in \u001b[0;36mpandas._libs.hashtable.PyObjectHashTable.get_item (pandas/_libs/hashtable.c:20359)\u001b[0;34m()\u001b[0m\n",
      "\u001b[0;31mKeyError\u001b[0m: 'stimulusType'",
      "\nDuring handling of the above exception, another exception occurred:\n",
      "\u001b[0;31mKeyError\u001b[0m                                  Traceback (most recent call last)",
      "\u001b[0;32m<ipython-input-141-1f8ffc143874>\u001b[0m in \u001b[0;36m<module>\u001b[0;34m()\u001b[0m\n\u001b[0;32m----> 1\u001b[0;31m \u001b[0mratData\u001b[0m \u001b[0;34m=\u001b[0m \u001b[0mdf\u001b[0m\u001b[0;34m.\u001b[0m\u001b[0mloc\u001b[0m\u001b[0;34m[\u001b[0m\u001b[0mdf\u001b[0m\u001b[0;34m[\u001b[0m\u001b[0;34m'stimulusType'\u001b[0m\u001b[0;34m]\u001b[0m \u001b[0;34m==\u001b[0m \u001b[0;34m'rat'\u001b[0m\u001b[0;34m,\u001b[0m\u001b[0;34m:\u001b[0m\u001b[0;34m]\u001b[0m\u001b[0;34m\u001b[0m\u001b[0m\n\u001b[0m\u001b[1;32m      2\u001b[0m \u001b[0mussData\u001b[0m \u001b[0;34m=\u001b[0m \u001b[0mdf\u001b[0m\u001b[0;34m.\u001b[0m\u001b[0mloc\u001b[0m\u001b[0;34m[\u001b[0m\u001b[0mdf\u001b[0m\u001b[0;34m[\u001b[0m\u001b[0;34m'stimulusType'\u001b[0m\u001b[0;34m]\u001b[0m \u001b[0;34m==\u001b[0m \u001b[0;34m'USS'\u001b[0m\u001b[0;34m,\u001b[0m\u001b[0;34m:\u001b[0m\u001b[0;34m]\u001b[0m\u001b[0;34m\u001b[0m\u001b[0m\n",
      "\u001b[0;32m/home/orthogonull/anaconda3/envs/py36/lib/python3.6/site-packages/pandas/core/frame.py\u001b[0m in \u001b[0;36m__getitem__\u001b[0;34m(self, key)\u001b[0m\n\u001b[1;32m   2060\u001b[0m             \u001b[0;32mreturn\u001b[0m \u001b[0mself\u001b[0m\u001b[0;34m.\u001b[0m\u001b[0m_getitem_multilevel\u001b[0m\u001b[0;34m(\u001b[0m\u001b[0mkey\u001b[0m\u001b[0;34m)\u001b[0m\u001b[0;34m\u001b[0m\u001b[0m\n\u001b[1;32m   2061\u001b[0m         \u001b[0;32melse\u001b[0m\u001b[0;34m:\u001b[0m\u001b[0;34m\u001b[0m\u001b[0m\n\u001b[0;32m-> 2062\u001b[0;31m             \u001b[0;32mreturn\u001b[0m \u001b[0mself\u001b[0m\u001b[0;34m.\u001b[0m\u001b[0m_getitem_column\u001b[0m\u001b[0;34m(\u001b[0m\u001b[0mkey\u001b[0m\u001b[0;34m)\u001b[0m\u001b[0;34m\u001b[0m\u001b[0m\n\u001b[0m\u001b[1;32m   2063\u001b[0m \u001b[0;34m\u001b[0m\u001b[0m\n\u001b[1;32m   2064\u001b[0m     \u001b[0;32mdef\u001b[0m \u001b[0m_getitem_column\u001b[0m\u001b[0;34m(\u001b[0m\u001b[0mself\u001b[0m\u001b[0;34m,\u001b[0m \u001b[0mkey\u001b[0m\u001b[0;34m)\u001b[0m\u001b[0;34m:\u001b[0m\u001b[0;34m\u001b[0m\u001b[0m\n",
      "\u001b[0;32m/home/orthogonull/anaconda3/envs/py36/lib/python3.6/site-packages/pandas/core/frame.py\u001b[0m in \u001b[0;36m_getitem_column\u001b[0;34m(self, key)\u001b[0m\n\u001b[1;32m   2067\u001b[0m         \u001b[0;31m# get column\u001b[0m\u001b[0;34m\u001b[0m\u001b[0;34m\u001b[0m\u001b[0m\n\u001b[1;32m   2068\u001b[0m         \u001b[0;32mif\u001b[0m \u001b[0mself\u001b[0m\u001b[0;34m.\u001b[0m\u001b[0mcolumns\u001b[0m\u001b[0;34m.\u001b[0m\u001b[0mis_unique\u001b[0m\u001b[0;34m:\u001b[0m\u001b[0;34m\u001b[0m\u001b[0m\n\u001b[0;32m-> 2069\u001b[0;31m             \u001b[0;32mreturn\u001b[0m \u001b[0mself\u001b[0m\u001b[0;34m.\u001b[0m\u001b[0m_get_item_cache\u001b[0m\u001b[0;34m(\u001b[0m\u001b[0mkey\u001b[0m\u001b[0;34m)\u001b[0m\u001b[0;34m\u001b[0m\u001b[0m\n\u001b[0m\u001b[1;32m   2070\u001b[0m \u001b[0;34m\u001b[0m\u001b[0m\n\u001b[1;32m   2071\u001b[0m         \u001b[0;31m# duplicate columns & possible reduce dimensionality\u001b[0m\u001b[0;34m\u001b[0m\u001b[0;34m\u001b[0m\u001b[0m\n",
      "\u001b[0;32m/home/orthogonull/anaconda3/envs/py36/lib/python3.6/site-packages/pandas/core/generic.py\u001b[0m in \u001b[0;36m_get_item_cache\u001b[0;34m(self, item)\u001b[0m\n\u001b[1;32m   1532\u001b[0m         \u001b[0mres\u001b[0m \u001b[0;34m=\u001b[0m \u001b[0mcache\u001b[0m\u001b[0;34m.\u001b[0m\u001b[0mget\u001b[0m\u001b[0;34m(\u001b[0m\u001b[0mitem\u001b[0m\u001b[0;34m)\u001b[0m\u001b[0;34m\u001b[0m\u001b[0m\n\u001b[1;32m   1533\u001b[0m         \u001b[0;32mif\u001b[0m \u001b[0mres\u001b[0m \u001b[0;32mis\u001b[0m \u001b[0;32mNone\u001b[0m\u001b[0;34m:\u001b[0m\u001b[0;34m\u001b[0m\u001b[0m\n\u001b[0;32m-> 1534\u001b[0;31m             \u001b[0mvalues\u001b[0m \u001b[0;34m=\u001b[0m \u001b[0mself\u001b[0m\u001b[0;34m.\u001b[0m\u001b[0m_data\u001b[0m\u001b[0;34m.\u001b[0m\u001b[0mget\u001b[0m\u001b[0;34m(\u001b[0m\u001b[0mitem\u001b[0m\u001b[0;34m)\u001b[0m\u001b[0;34m\u001b[0m\u001b[0m\n\u001b[0m\u001b[1;32m   1535\u001b[0m             \u001b[0mres\u001b[0m \u001b[0;34m=\u001b[0m \u001b[0mself\u001b[0m\u001b[0;34m.\u001b[0m\u001b[0m_box_item_values\u001b[0m\u001b[0;34m(\u001b[0m\u001b[0mitem\u001b[0m\u001b[0;34m,\u001b[0m \u001b[0mvalues\u001b[0m\u001b[0;34m)\u001b[0m\u001b[0;34m\u001b[0m\u001b[0m\n\u001b[1;32m   1536\u001b[0m             \u001b[0mcache\u001b[0m\u001b[0;34m[\u001b[0m\u001b[0mitem\u001b[0m\u001b[0;34m]\u001b[0m \u001b[0;34m=\u001b[0m \u001b[0mres\u001b[0m\u001b[0;34m\u001b[0m\u001b[0m\n",
      "\u001b[0;32m/home/orthogonull/anaconda3/envs/py36/lib/python3.6/site-packages/pandas/core/internals.py\u001b[0m in \u001b[0;36mget\u001b[0;34m(self, item, fastpath)\u001b[0m\n\u001b[1;32m   3588\u001b[0m \u001b[0;34m\u001b[0m\u001b[0m\n\u001b[1;32m   3589\u001b[0m             \u001b[0;32mif\u001b[0m \u001b[0;32mnot\u001b[0m \u001b[0misnull\u001b[0m\u001b[0;34m(\u001b[0m\u001b[0mitem\u001b[0m\u001b[0;34m)\u001b[0m\u001b[0;34m:\u001b[0m\u001b[0;34m\u001b[0m\u001b[0m\n\u001b[0;32m-> 3590\u001b[0;31m                 \u001b[0mloc\u001b[0m \u001b[0;34m=\u001b[0m \u001b[0mself\u001b[0m\u001b[0;34m.\u001b[0m\u001b[0mitems\u001b[0m\u001b[0;34m.\u001b[0m\u001b[0mget_loc\u001b[0m\u001b[0;34m(\u001b[0m\u001b[0mitem\u001b[0m\u001b[0;34m)\u001b[0m\u001b[0;34m\u001b[0m\u001b[0m\n\u001b[0m\u001b[1;32m   3591\u001b[0m             \u001b[0;32melse\u001b[0m\u001b[0;34m:\u001b[0m\u001b[0;34m\u001b[0m\u001b[0m\n\u001b[1;32m   3592\u001b[0m                 \u001b[0mindexer\u001b[0m \u001b[0;34m=\u001b[0m \u001b[0mnp\u001b[0m\u001b[0;34m.\u001b[0m\u001b[0marange\u001b[0m\u001b[0;34m(\u001b[0m\u001b[0mlen\u001b[0m\u001b[0;34m(\u001b[0m\u001b[0mself\u001b[0m\u001b[0;34m.\u001b[0m\u001b[0mitems\u001b[0m\u001b[0;34m)\u001b[0m\u001b[0;34m)\u001b[0m\u001b[0;34m[\u001b[0m\u001b[0misnull\u001b[0m\u001b[0;34m(\u001b[0m\u001b[0mself\u001b[0m\u001b[0;34m.\u001b[0m\u001b[0mitems\u001b[0m\u001b[0;34m)\u001b[0m\u001b[0;34m]\u001b[0m\u001b[0;34m\u001b[0m\u001b[0m\n",
      "\u001b[0;32m/home/orthogonull/anaconda3/envs/py36/lib/python3.6/site-packages/pandas/core/indexes/base.py\u001b[0m in \u001b[0;36mget_loc\u001b[0;34m(self, key, method, tolerance)\u001b[0m\n\u001b[1;32m   2393\u001b[0m                 \u001b[0;32mreturn\u001b[0m \u001b[0mself\u001b[0m\u001b[0;34m.\u001b[0m\u001b[0m_engine\u001b[0m\u001b[0;34m.\u001b[0m\u001b[0mget_loc\u001b[0m\u001b[0;34m(\u001b[0m\u001b[0mkey\u001b[0m\u001b[0;34m)\u001b[0m\u001b[0;34m\u001b[0m\u001b[0m\n\u001b[1;32m   2394\u001b[0m             \u001b[0;32mexcept\u001b[0m \u001b[0mKeyError\u001b[0m\u001b[0;34m:\u001b[0m\u001b[0;34m\u001b[0m\u001b[0m\n\u001b[0;32m-> 2395\u001b[0;31m                 \u001b[0;32mreturn\u001b[0m \u001b[0mself\u001b[0m\u001b[0;34m.\u001b[0m\u001b[0m_engine\u001b[0m\u001b[0;34m.\u001b[0m\u001b[0mget_loc\u001b[0m\u001b[0;34m(\u001b[0m\u001b[0mself\u001b[0m\u001b[0;34m.\u001b[0m\u001b[0m_maybe_cast_indexer\u001b[0m\u001b[0;34m(\u001b[0m\u001b[0mkey\u001b[0m\u001b[0;34m)\u001b[0m\u001b[0;34m)\u001b[0m\u001b[0;34m\u001b[0m\u001b[0m\n\u001b[0m\u001b[1;32m   2396\u001b[0m \u001b[0;34m\u001b[0m\u001b[0m\n\u001b[1;32m   2397\u001b[0m         \u001b[0mindexer\u001b[0m \u001b[0;34m=\u001b[0m \u001b[0mself\u001b[0m\u001b[0;34m.\u001b[0m\u001b[0mget_indexer\u001b[0m\u001b[0;34m(\u001b[0m\u001b[0;34m[\u001b[0m\u001b[0mkey\u001b[0m\u001b[0;34m]\u001b[0m\u001b[0;34m,\u001b[0m \u001b[0mmethod\u001b[0m\u001b[0;34m=\u001b[0m\u001b[0mmethod\u001b[0m\u001b[0;34m,\u001b[0m \u001b[0mtolerance\u001b[0m\u001b[0;34m=\u001b[0m\u001b[0mtolerance\u001b[0m\u001b[0;34m)\u001b[0m\u001b[0;34m\u001b[0m\u001b[0m\n",
      "\u001b[0;32mpandas/_libs/index.pyx\u001b[0m in \u001b[0;36mpandas._libs.index.IndexEngine.get_loc (pandas/_libs/index.c:5239)\u001b[0;34m()\u001b[0m\n",
      "\u001b[0;32mpandas/_libs/index.pyx\u001b[0m in \u001b[0;36mpandas._libs.index.IndexEngine.get_loc (pandas/_libs/index.c:5085)\u001b[0;34m()\u001b[0m\n",
      "\u001b[0;32mpandas/_libs/hashtable_class_helper.pxi\u001b[0m in \u001b[0;36mpandas._libs.hashtable.PyObjectHashTable.get_item (pandas/_libs/hashtable.c:20405)\u001b[0;34m()\u001b[0m\n",
      "\u001b[0;32mpandas/_libs/hashtable_class_helper.pxi\u001b[0m in \u001b[0;36mpandas._libs.hashtable.PyObjectHashTable.get_item (pandas/_libs/hashtable.c:20359)\u001b[0;34m()\u001b[0m\n",
      "\u001b[0;31mKeyError\u001b[0m: 'stimulusType'"
     ]
    }
   ],
   "source": [
    "ratData = df.loc[df['stimulusType'] == 'rat',:]\n",
    "ussData = df.loc[df['stimulusType'] == 'USS',:]"
   ]
  },
  {
   "cell_type": "code",
   "execution_count": 142,
   "metadata": {},
   "outputs": [
    {
     "ename": "NameError",
     "evalue": "name 'ratData' is not defined",
     "output_type": "error",
     "traceback": [
      "\u001b[0;31m---------------------------------------------------------------------------\u001b[0m",
      "\u001b[0;31mNameError\u001b[0m                                 Traceback (most recent call last)",
      "\u001b[0;32m<ipython-input-142-5862352cddee>\u001b[0m in \u001b[0;36m<module>\u001b[0;34m()\u001b[0m\n\u001b[0;32m----> 1\u001b[0;31m \u001b[0mprint\u001b[0m\u001b[0;34m(\u001b[0m\u001b[0mlen\u001b[0m\u001b[0;34m(\u001b[0m\u001b[0mratData\u001b[0m\u001b[0;34m)\u001b[0m\u001b[0;34m)\u001b[0m\u001b[0;34m\u001b[0m\u001b[0m\n\u001b[0m\u001b[1;32m      2\u001b[0m \u001b[0mprint\u001b[0m\u001b[0;34m(\u001b[0m\u001b[0mlen\u001b[0m\u001b[0;34m(\u001b[0m\u001b[0mussData\u001b[0m\u001b[0;34m)\u001b[0m\u001b[0;34m)\u001b[0m\u001b[0;34m\u001b[0m\u001b[0m\n",
      "\u001b[0;31mNameError\u001b[0m: name 'ratData' is not defined"
     ]
    }
   ],
   "source": [
    "print(len(ratData))\n",
    "print(len(ussData))"
   ]
  },
  {
   "cell_type": "code",
   "execution_count": 27,
   "metadata": {
    "scrolled": true
   },
   "outputs": [
    {
     "name": "stdout",
     "output_type": "stream",
     "text": [
      "               date  animalNum  sessionNum  trialNum stimulusType  neuronID  \\\n",
      "90432    2017_05_00          1           1         5          USS         1   \n",
      "90433    2017_05_00          1           1         5          USS         1   \n",
      "90434    2017_05_00          1           1         5          USS         1   \n",
      "90435    2017_05_00          1           1         5          USS         1   \n",
      "90436    2017_05_00          1           1         5          USS         1   \n",
      "90437    2017_05_00          1           1         5          USS         1   \n",
      "90438    2017_05_00          1           1         5          USS         1   \n",
      "90439    2017_05_00          1           1         5          USS         1   \n",
      "90440    2017_05_00          1           1         5          USS         1   \n",
      "90441    2017_05_00          1           1         5          USS         1   \n",
      "90442    2017_05_00          1           1         5          USS         1   \n",
      "90443    2017_05_00          1           1         5          USS         1   \n",
      "90444    2017_05_00          1           1         5          USS         1   \n",
      "90445    2017_05_00          1           1         5          USS         1   \n",
      "90446    2017_05_00          1           1         5          USS         1   \n",
      "90447    2017_05_00          1           1         5          USS         1   \n",
      "90448    2017_05_00          1           1         5          USS         1   \n",
      "90449    2017_05_00          1           1         5          USS         1   \n",
      "90450    2017_05_00          1           1         5          USS         1   \n",
      "90451    2017_05_00          1           1         5          USS         1   \n",
      "90452    2017_05_00          1           1         5          USS         1   \n",
      "90453    2017_05_00          1           1         5          USS         1   \n",
      "90454    2017_05_00          1           1         5          USS         1   \n",
      "90455    2017_05_00          1           1         5          USS         1   \n",
      "90456    2017_05_00          1           1         5          USS         1   \n",
      "90457    2017_05_00          1           1         5          USS         1   \n",
      "90458    2017_05_00          1           1         5          USS         1   \n",
      "90459    2017_05_00          1           1         5          USS         1   \n",
      "90460    2017_05_00          1           1         5          USS         1   \n",
      "90461    2017_05_00          1           1         5          USS         1   \n",
      "...             ...        ...         ...       ...          ...       ...   \n",
      "1462007  2017_05_00          1           3        16          USS        21   \n",
      "1462008  2017_05_00          1           3        16          USS        21   \n",
      "1462009  2017_05_00          1           3        16          USS        21   \n",
      "1462010  2017_05_00          1           3        16          USS        21   \n",
      "1462011  2017_05_00          1           3        16          USS        21   \n",
      "1462012  2017_05_00          1           3        16          USS        21   \n",
      "1462013  2017_05_00          1           3        16          USS        21   \n",
      "1462014  2017_05_00          1           3        16          USS        21   \n",
      "1462015  2017_05_00          1           3        16          USS        21   \n",
      "1462016  2017_05_00          1           3        16          USS        21   \n",
      "1462017  2017_05_00          1           3        16          USS        21   \n",
      "1462018  2017_05_00          1           3        16          USS        21   \n",
      "1462019  2017_05_00          1           3        16          USS        21   \n",
      "1462020  2017_05_00          1           3        16          USS        21   \n",
      "1462021  2017_05_00          1           3        16          USS        21   \n",
      "1462022  2017_05_00          1           3        16          USS        21   \n",
      "1462023  2017_05_00          1           3        16          USS        21   \n",
      "1462024  2017_05_00          1           3        16          USS        21   \n",
      "1462025  2017_05_00          1           3        16          USS        21   \n",
      "1462026  2017_05_00          1           3        16          USS        21   \n",
      "1462027  2017_05_00          1           3        16          USS        21   \n",
      "1462028  2017_05_00          1           3        16          USS        21   \n",
      "1462029  2017_05_00          1           3        16          USS        21   \n",
      "1462030  2017_05_00          1           3        16          USS        21   \n",
      "1462031  2017_05_00          1           3        16          USS        21   \n",
      "1462032  2017_05_00          1           3        16          USS        21   \n",
      "1462033  2017_05_00          1           3        16          USS        21   \n",
      "1462034  2017_05_00          1           3        16          USS        21   \n",
      "1462035  2017_05_00          1           3        16          USS        21   \n",
      "1462036  2017_05_00          1           3        16          USS        21   \n",
      "\n",
      "         timePt  CaSignal  \n",
      "90432         1  30.04230  \n",
      "90433         2  29.78590  \n",
      "90434         3  31.68300  \n",
      "90435         4  32.08270  \n",
      "90436         5  29.63980  \n",
      "90437         6  27.80040  \n",
      "90438         7  30.81490  \n",
      "90439         8  28.30740  \n",
      "90440         9  28.60450  \n",
      "90441        10  27.80040  \n",
      "90442        11  28.96930  \n",
      "90443        12  31.62290  \n",
      "90444        13  31.32160  \n",
      "90445        14  29.55340  \n",
      "90446        15  26.82370  \n",
      "90447        16  27.64310  \n",
      "90448        17  27.11720  \n",
      "90449        18  28.01820  \n",
      "90450        19  28.90250  \n",
      "90451        20  28.05220  \n",
      "90452        21  26.22740  \n",
      "90453        22  28.62690  \n",
      "90454        23  27.91180  \n",
      "90455        24  27.80680  \n",
      "90456        25  27.97480  \n",
      "90457        26  24.69330  \n",
      "90458        27  28.36470  \n",
      "90459        28  27.29370  \n",
      "90460        29  29.29790  \n",
      "90461        30  27.46170  \n",
      "...         ...       ...  \n",
      "1462007    1203   5.20360  \n",
      "1462008    1204   0.93130  \n",
      "1462009    1205   2.53820  \n",
      "1462010    1206   2.44020  \n",
      "1462011    1207   2.71400  \n",
      "1462012    1208   2.70100  \n",
      "1462013    1209   3.74860  \n",
      "1462014    1210   1.61480  \n",
      "1462015    1211   2.91060  \n",
      "1462016    1212   1.33420  \n",
      "1462017    1213   0.94814  \n",
      "1462018    1214   0.23482  \n",
      "1462019    1215   3.26320  \n",
      "1462020    1216   2.35090  \n",
      "1462021    1217   1.78590  \n",
      "1462022    1218  -1.24970  \n",
      "1462023    1219  -0.59041  \n",
      "1462024    1220   2.50430  \n",
      "1462025    1221   1.61240  \n",
      "1462026    1222   3.77660  \n",
      "1462027    1223   1.10220  \n",
      "1462028    1224   1.95190  \n",
      "1462029    1225  -1.37710  \n",
      "1462030    1226  -1.29980  \n",
      "1462031    1227   0.45205  \n",
      "1462032    1228  -0.35790  \n",
      "1462033    1229   1.08910  \n",
      "1462034    1230  -0.68001  \n",
      "1462035    1231   0.55385  \n",
      "1462036    1232   0.60314  \n",
      "\n",
      "[243081 rows x 8 columns]\n"
     ]
    }
   ],
   "source": [
    "print(ussData)\n",
    "\n",
    "# slicing\n",
    "df_big_force = df.loc[df['impact force (mN)'] > 1000, :]\n",
    "\n",
    "df = pd.concat((df_low, df_high), axis=1)\n",
    "\n",
    "# Specify indices we want (note parentheses holding each Boolean)\n",
    "inds = (df['food density'] == 'high') & (df['cross-sectional area (sq micron)'] > 2000)\n",
    "\n",
    "# Pull out areas\n",
    "df.loc[inds, 'cross-sectional area (sq micron)']\n",
    "\n",
    "df.corr()\n",
    "\n",
    "# Rename the impact force column\n",
    "df = df.rename(columns={'impact force (mN)': 'impf'})\n",
    "\n",
    "\n",
    "\n",
    "# Write out DataFrame\n",
    "df.to_csv('xa_combined.csv', index=False)"
   ]
  },
  {
   "cell_type": "code",
   "execution_count": 16,
   "metadata": {
    "collapsed": true
   },
   "outputs": [
    {
     "ename": "KeyError",
     "evalue": "<pandas.core.indexing._LocIndexer object at 0x7fedd38aadd8>",
     "output_type": "error",
     "traceback": [
      "\u001b[0;31m---------------------------------------------------------------------------\u001b[0m",
      "\u001b[0;31mKeyError\u001b[0m                                  Traceback (most recent call last)",
      "\u001b[0;32m/home/orthogonull/anaconda3/envs/py36/lib/python3.6/site-packages/pandas/core/indexes/base.py\u001b[0m in \u001b[0;36mget_loc\u001b[0;34m(self, key, method, tolerance)\u001b[0m\n\u001b[1;32m   2392\u001b[0m             \u001b[0;32mtry\u001b[0m\u001b[0;34m:\u001b[0m\u001b[0;34m\u001b[0m\u001b[0m\n\u001b[0;32m-> 2393\u001b[0;31m                 \u001b[0;32mreturn\u001b[0m \u001b[0mself\u001b[0m\u001b[0;34m.\u001b[0m\u001b[0m_engine\u001b[0m\u001b[0;34m.\u001b[0m\u001b[0mget_loc\u001b[0m\u001b[0;34m(\u001b[0m\u001b[0mkey\u001b[0m\u001b[0;34m)\u001b[0m\u001b[0;34m\u001b[0m\u001b[0m\n\u001b[0m\u001b[1;32m   2394\u001b[0m             \u001b[0;32mexcept\u001b[0m \u001b[0mKeyError\u001b[0m\u001b[0;34m:\u001b[0m\u001b[0;34m\u001b[0m\u001b[0m\n",
      "\u001b[0;32mpandas/_libs/index.pyx\u001b[0m in \u001b[0;36mpandas._libs.index.IndexEngine.get_loc (pandas/_libs/index.c:5239)\u001b[0;34m()\u001b[0m\n",
      "\u001b[0;32mpandas/_libs/index.pyx\u001b[0m in \u001b[0;36mpandas._libs.index.IndexEngine.get_loc (pandas/_libs/index.c:5085)\u001b[0;34m()\u001b[0m\n",
      "\u001b[0;32mpandas/_libs/hashtable_class_helper.pxi\u001b[0m in \u001b[0;36mpandas._libs.hashtable.PyObjectHashTable.get_item (pandas/_libs/hashtable.c:20405)\u001b[0;34m()\u001b[0m\n",
      "\u001b[0;32mpandas/_libs/hashtable_class_helper.pxi\u001b[0m in \u001b[0;36mpandas._libs.hashtable.PyObjectHashTable.get_item (pandas/_libs/hashtable.c:20359)\u001b[0;34m()\u001b[0m\n",
      "\u001b[0;31mKeyError\u001b[0m: <pandas.core.indexing._LocIndexer object at 0x7fedd38aadd8>",
      "\nDuring handling of the above exception, another exception occurred:\n",
      "\u001b[0;31mKeyError\u001b[0m                                  Traceback (most recent call last)",
      "\u001b[0;32m<ipython-input-16-05ca07d3bd20>\u001b[0m in \u001b[0;36m<module>\u001b[0;34m()\u001b[0m\n\u001b[1;32m      1\u001b[0m \u001b[0minds\u001b[0m \u001b[0;34m=\u001b[0m \u001b[0mdf\u001b[0m\u001b[0;34m.\u001b[0m\u001b[0mloc\u001b[0m\u001b[0;34m(\u001b[0m\u001b[0mdf\u001b[0m\u001b[0;34m.\u001b[0m\u001b[0manimalNum\u001b[0m \u001b[0;34m==\u001b[0m \u001b[0;36m1\u001b[0m\u001b[0;34m)\u001b[0m\u001b[0;34m\u001b[0m\u001b[0m\n\u001b[0;32m----> 2\u001b[0;31m \u001b[0mdf\u001b[0m\u001b[0;34m[\u001b[0m\u001b[0minds\u001b[0m\u001b[0;34m]\u001b[0m\u001b[0;34m\u001b[0m\u001b[0m\n\u001b[0m",
      "\u001b[0;32m/home/orthogonull/anaconda3/envs/py36/lib/python3.6/site-packages/pandas/core/frame.py\u001b[0m in \u001b[0;36m__getitem__\u001b[0;34m(self, key)\u001b[0m\n\u001b[1;32m   2060\u001b[0m             \u001b[0;32mreturn\u001b[0m \u001b[0mself\u001b[0m\u001b[0;34m.\u001b[0m\u001b[0m_getitem_multilevel\u001b[0m\u001b[0;34m(\u001b[0m\u001b[0mkey\u001b[0m\u001b[0;34m)\u001b[0m\u001b[0;34m\u001b[0m\u001b[0m\n\u001b[1;32m   2061\u001b[0m         \u001b[0;32melse\u001b[0m\u001b[0;34m:\u001b[0m\u001b[0;34m\u001b[0m\u001b[0m\n\u001b[0;32m-> 2062\u001b[0;31m             \u001b[0;32mreturn\u001b[0m \u001b[0mself\u001b[0m\u001b[0;34m.\u001b[0m\u001b[0m_getitem_column\u001b[0m\u001b[0;34m(\u001b[0m\u001b[0mkey\u001b[0m\u001b[0;34m)\u001b[0m\u001b[0;34m\u001b[0m\u001b[0m\n\u001b[0m\u001b[1;32m   2063\u001b[0m \u001b[0;34m\u001b[0m\u001b[0m\n\u001b[1;32m   2064\u001b[0m     \u001b[0;32mdef\u001b[0m \u001b[0m_getitem_column\u001b[0m\u001b[0;34m(\u001b[0m\u001b[0mself\u001b[0m\u001b[0;34m,\u001b[0m \u001b[0mkey\u001b[0m\u001b[0;34m)\u001b[0m\u001b[0;34m:\u001b[0m\u001b[0;34m\u001b[0m\u001b[0m\n",
      "\u001b[0;32m/home/orthogonull/anaconda3/envs/py36/lib/python3.6/site-packages/pandas/core/frame.py\u001b[0m in \u001b[0;36m_getitem_column\u001b[0;34m(self, key)\u001b[0m\n\u001b[1;32m   2067\u001b[0m         \u001b[0;31m# get column\u001b[0m\u001b[0;34m\u001b[0m\u001b[0;34m\u001b[0m\u001b[0m\n\u001b[1;32m   2068\u001b[0m         \u001b[0;32mif\u001b[0m \u001b[0mself\u001b[0m\u001b[0;34m.\u001b[0m\u001b[0mcolumns\u001b[0m\u001b[0;34m.\u001b[0m\u001b[0mis_unique\u001b[0m\u001b[0;34m:\u001b[0m\u001b[0;34m\u001b[0m\u001b[0m\n\u001b[0;32m-> 2069\u001b[0;31m             \u001b[0;32mreturn\u001b[0m \u001b[0mself\u001b[0m\u001b[0;34m.\u001b[0m\u001b[0m_get_item_cache\u001b[0m\u001b[0;34m(\u001b[0m\u001b[0mkey\u001b[0m\u001b[0;34m)\u001b[0m\u001b[0;34m\u001b[0m\u001b[0m\n\u001b[0m\u001b[1;32m   2070\u001b[0m \u001b[0;34m\u001b[0m\u001b[0m\n\u001b[1;32m   2071\u001b[0m         \u001b[0;31m# duplicate columns & possible reduce dimensionality\u001b[0m\u001b[0;34m\u001b[0m\u001b[0;34m\u001b[0m\u001b[0m\n",
      "\u001b[0;32m/home/orthogonull/anaconda3/envs/py36/lib/python3.6/site-packages/pandas/core/generic.py\u001b[0m in \u001b[0;36m_get_item_cache\u001b[0;34m(self, item)\u001b[0m\n\u001b[1;32m   1532\u001b[0m         \u001b[0mres\u001b[0m \u001b[0;34m=\u001b[0m \u001b[0mcache\u001b[0m\u001b[0;34m.\u001b[0m\u001b[0mget\u001b[0m\u001b[0;34m(\u001b[0m\u001b[0mitem\u001b[0m\u001b[0;34m)\u001b[0m\u001b[0;34m\u001b[0m\u001b[0m\n\u001b[1;32m   1533\u001b[0m         \u001b[0;32mif\u001b[0m \u001b[0mres\u001b[0m \u001b[0;32mis\u001b[0m \u001b[0;32mNone\u001b[0m\u001b[0;34m:\u001b[0m\u001b[0;34m\u001b[0m\u001b[0m\n\u001b[0;32m-> 1534\u001b[0;31m             \u001b[0mvalues\u001b[0m \u001b[0;34m=\u001b[0m \u001b[0mself\u001b[0m\u001b[0;34m.\u001b[0m\u001b[0m_data\u001b[0m\u001b[0;34m.\u001b[0m\u001b[0mget\u001b[0m\u001b[0;34m(\u001b[0m\u001b[0mitem\u001b[0m\u001b[0;34m)\u001b[0m\u001b[0;34m\u001b[0m\u001b[0m\n\u001b[0m\u001b[1;32m   1535\u001b[0m             \u001b[0mres\u001b[0m \u001b[0;34m=\u001b[0m \u001b[0mself\u001b[0m\u001b[0;34m.\u001b[0m\u001b[0m_box_item_values\u001b[0m\u001b[0;34m(\u001b[0m\u001b[0mitem\u001b[0m\u001b[0;34m,\u001b[0m \u001b[0mvalues\u001b[0m\u001b[0;34m)\u001b[0m\u001b[0;34m\u001b[0m\u001b[0m\n\u001b[1;32m   1536\u001b[0m             \u001b[0mcache\u001b[0m\u001b[0;34m[\u001b[0m\u001b[0mitem\u001b[0m\u001b[0;34m]\u001b[0m \u001b[0;34m=\u001b[0m \u001b[0mres\u001b[0m\u001b[0;34m\u001b[0m\u001b[0m\n",
      "\u001b[0;32m/home/orthogonull/anaconda3/envs/py36/lib/python3.6/site-packages/pandas/core/internals.py\u001b[0m in \u001b[0;36mget\u001b[0;34m(self, item, fastpath)\u001b[0m\n\u001b[1;32m   3588\u001b[0m \u001b[0;34m\u001b[0m\u001b[0m\n\u001b[1;32m   3589\u001b[0m             \u001b[0;32mif\u001b[0m \u001b[0;32mnot\u001b[0m \u001b[0misnull\u001b[0m\u001b[0;34m(\u001b[0m\u001b[0mitem\u001b[0m\u001b[0;34m)\u001b[0m\u001b[0;34m:\u001b[0m\u001b[0;34m\u001b[0m\u001b[0m\n\u001b[0;32m-> 3590\u001b[0;31m                 \u001b[0mloc\u001b[0m \u001b[0;34m=\u001b[0m \u001b[0mself\u001b[0m\u001b[0;34m.\u001b[0m\u001b[0mitems\u001b[0m\u001b[0;34m.\u001b[0m\u001b[0mget_loc\u001b[0m\u001b[0;34m(\u001b[0m\u001b[0mitem\u001b[0m\u001b[0;34m)\u001b[0m\u001b[0;34m\u001b[0m\u001b[0m\n\u001b[0m\u001b[1;32m   3591\u001b[0m             \u001b[0;32melse\u001b[0m\u001b[0;34m:\u001b[0m\u001b[0;34m\u001b[0m\u001b[0m\n\u001b[1;32m   3592\u001b[0m                 \u001b[0mindexer\u001b[0m \u001b[0;34m=\u001b[0m \u001b[0mnp\u001b[0m\u001b[0;34m.\u001b[0m\u001b[0marange\u001b[0m\u001b[0;34m(\u001b[0m\u001b[0mlen\u001b[0m\u001b[0;34m(\u001b[0m\u001b[0mself\u001b[0m\u001b[0;34m.\u001b[0m\u001b[0mitems\u001b[0m\u001b[0;34m)\u001b[0m\u001b[0;34m)\u001b[0m\u001b[0;34m[\u001b[0m\u001b[0misnull\u001b[0m\u001b[0;34m(\u001b[0m\u001b[0mself\u001b[0m\u001b[0;34m.\u001b[0m\u001b[0mitems\u001b[0m\u001b[0;34m)\u001b[0m\u001b[0;34m]\u001b[0m\u001b[0;34m\u001b[0m\u001b[0m\n",
      "\u001b[0;32m/home/orthogonull/anaconda3/envs/py36/lib/python3.6/site-packages/pandas/core/indexes/base.py\u001b[0m in \u001b[0;36mget_loc\u001b[0;34m(self, key, method, tolerance)\u001b[0m\n\u001b[1;32m   2393\u001b[0m                 \u001b[0;32mreturn\u001b[0m \u001b[0mself\u001b[0m\u001b[0;34m.\u001b[0m\u001b[0m_engine\u001b[0m\u001b[0;34m.\u001b[0m\u001b[0mget_loc\u001b[0m\u001b[0;34m(\u001b[0m\u001b[0mkey\u001b[0m\u001b[0;34m)\u001b[0m\u001b[0;34m\u001b[0m\u001b[0m\n\u001b[1;32m   2394\u001b[0m             \u001b[0;32mexcept\u001b[0m \u001b[0mKeyError\u001b[0m\u001b[0;34m:\u001b[0m\u001b[0;34m\u001b[0m\u001b[0m\n\u001b[0;32m-> 2395\u001b[0;31m                 \u001b[0;32mreturn\u001b[0m \u001b[0mself\u001b[0m\u001b[0;34m.\u001b[0m\u001b[0m_engine\u001b[0m\u001b[0;34m.\u001b[0m\u001b[0mget_loc\u001b[0m\u001b[0;34m(\u001b[0m\u001b[0mself\u001b[0m\u001b[0;34m.\u001b[0m\u001b[0m_maybe_cast_indexer\u001b[0m\u001b[0;34m(\u001b[0m\u001b[0mkey\u001b[0m\u001b[0;34m)\u001b[0m\u001b[0;34m)\u001b[0m\u001b[0;34m\u001b[0m\u001b[0m\n\u001b[0m\u001b[1;32m   2396\u001b[0m \u001b[0;34m\u001b[0m\u001b[0m\n\u001b[1;32m   2397\u001b[0m         \u001b[0mindexer\u001b[0m \u001b[0;34m=\u001b[0m \u001b[0mself\u001b[0m\u001b[0;34m.\u001b[0m\u001b[0mget_indexer\u001b[0m\u001b[0;34m(\u001b[0m\u001b[0;34m[\u001b[0m\u001b[0mkey\u001b[0m\u001b[0;34m]\u001b[0m\u001b[0;34m,\u001b[0m \u001b[0mmethod\u001b[0m\u001b[0;34m=\u001b[0m\u001b[0mmethod\u001b[0m\u001b[0;34m,\u001b[0m \u001b[0mtolerance\u001b[0m\u001b[0;34m=\u001b[0m\u001b[0mtolerance\u001b[0m\u001b[0;34m)\u001b[0m\u001b[0;34m\u001b[0m\u001b[0m\n",
      "\u001b[0;32mpandas/_libs/index.pyx\u001b[0m in \u001b[0;36mpandas._libs.index.IndexEngine.get_loc (pandas/_libs/index.c:5239)\u001b[0;34m()\u001b[0m\n",
      "\u001b[0;32mpandas/_libs/index.pyx\u001b[0m in \u001b[0;36mpandas._libs.index.IndexEngine.get_loc (pandas/_libs/index.c:5085)\u001b[0;34m()\u001b[0m\n",
      "\u001b[0;32mpandas/_libs/hashtable_class_helper.pxi\u001b[0m in \u001b[0;36mpandas._libs.hashtable.PyObjectHashTable.get_item (pandas/_libs/hashtable.c:20405)\u001b[0;34m()\u001b[0m\n",
      "\u001b[0;32mpandas/_libs/hashtable_class_helper.pxi\u001b[0m in \u001b[0;36mpandas._libs.hashtable.PyObjectHashTable.get_item (pandas/_libs/hashtable.c:20359)\u001b[0;34m()\u001b[0m\n",
      "\u001b[0;31mKeyError\u001b[0m: <pandas.core.indexing._LocIndexer object at 0x7fedd38aadd8>"
     ]
    }
   ],
   "source": [
    "\n",
    "\n",
    "\n",
    "\n",
    "inds = df.loc(df.animalNum == 1)\n",
    "df[inds]"
   ]
  },
  {
   "cell_type": "code",
   "execution_count": null,
   "metadata": {
    "collapsed": true
   },
   "outputs": [],
   "source": []
  }
 ],
 "metadata": {
  "kernelspec": {
   "display_name": "Python 3",
   "language": "python",
   "name": "python3"
  },
  "language_info": {
   "codemirror_mode": {
    "name": "ipython",
    "version": 3
   },
   "file_extension": ".py",
   "mimetype": "text/x-python",
   "name": "python",
   "nbconvert_exporter": "python",
   "pygments_lexer": "ipython3",
   "version": "3.6.1"
  }
 },
 "nbformat": 4,
 "nbformat_minor": 2
}
